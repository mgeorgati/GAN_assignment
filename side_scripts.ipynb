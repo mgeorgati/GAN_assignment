{
 "cells": [
  {
   "cell_type": "code",
   "execution_count": 1,
   "metadata": {},
   "outputs": [],
   "source": [
    "#Import necessary libraries\n",
    "import os\n",
    "import pandas as pd\n",
    "import rasterio\n",
    "from rasterio.plot import plotting_extent\n",
    "import bokeh\n",
    "import numpy as np\n",
    "import matplotlib as mlp\n",
    "from rasterio.plot import show\n",
    "import matplotlib.pyplot as plt\n",
    "from matplotlib import pyplot\n",
    "%matplotlib inline \n",
    "import seaborn as sns"
   ]
  },
  {
   "cell_type": "code",
   "execution_count": 2,
   "metadata": {},
   "outputs": [],
   "source": [
    "countries_tif = rasterio.open('countries.tif')"
   ]
  },
  {
   "cell_type": "code",
   "execution_count": 3,
   "metadata": {},
   "outputs": [],
   "source": [
    "tif1 = rasterio.open('C:\\\\Users\\\\NM12LQ\\\\OneDrive - Aalborg Universitet\\\\PhDCourses\\\\3. Python\\\\Geospatial-Analysis-Notebooks_assignment\\\\france_ssp2010.tif')\n",
    "tif2 = rasterio.open('C:\\\\Users\\\\NM12LQ\\\\OneDrive - Aalborg Universitet\\\\PhDCourses\\\\3. Python\\\\Geospatial-Analysis-Notebooks_assignment\\\\france_ssp2100.tif')\n"
   ]
  },
  {
   "cell_type": "code",
   "execution_count": 8,
   "metadata": {},
   "outputs": [
    {
     "name": "stdout",
     "output_type": "stream",
     "text": [
      "[[2147483647 2147483647 2147483647 ... 2147483647 2147483647 2147483647]\n",
      " [2147483647 2147483647 2147483647 ... 2147483647 2147483647 2147483647]\n",
      " [2147483647 2147483647 2147483647 ... 2147483647 2147483647 2147483647]\n",
      " ...\n",
      " [2147483647 2147483647 2147483647 ...       2280       1967 2147483647]\n",
      " [2147483647 2147483647 2147483647 ...       2834       2978 2147483647]\n",
      " [2147483647 2147483647 2147483647 ...       1532 2147483647 2147483647]]\n"
     ]
    }
   ],
   "source": [
    "pop1 = tif1.read(1)\n",
    "pop2 = tif2.read(1)\n",
    "print(pop1)"
   ]
  },
  {
   "cell_type": "code",
   "execution_count": 6,
   "metadata": {},
   "outputs": [
    {
     "data": {
      "image/png": "[encoded data removed]",
      "text/plain": [
       "<Figure size 1008x1008 with 1 Axes>"
      ]
     },
     "metadata": {
      "needs_background": "light"
     },
     "output_type": "display_data"
    },
    {
     "data": {
      "text/plain": [
       "<matplotlib.axes._subplots.AxesSubplot at 0x2559d465bc8>"
      ]
     },
     "execution_count": 6,
     "metadata": {},
     "output_type": "execute_result"
    }
   ],
   "source": [
    "from matplotlib.colors import LogNorm\n",
    "\n",
    "plt.figure(figsize=(14, 14))\n",
    "show((tif1, 1), title='Population', norm=LogNorm(), cmap='gist_heat_r')"
   ]
  },
  {
   "cell_type": "code",
   "execution_count": 17,
   "metadata": {},
   "outputs": [
    {
     "data": {
      "text/plain": [
       "-2086971195"
      ]
     },
     "execution_count": 17,
     "metadata": {},
     "output_type": "execute_result"
    }
   ],
   "source": [
    "np.sum(pop1)"
   ]
  },
  {
   "cell_type": "code",
   "execution_count": 14,
   "metadata": {},
   "outputs": [],
   "source": [
    "pop1[pop1 < 0] = 0"
   ]
  },
  {
   "cell_type": "code",
   "execution_count": 15,
   "metadata": {},
   "outputs": [
    {
     "data": {
      "text/plain": [
       "-2086971195"
      ]
     },
     "execution_count": 15,
     "metadata": {},
     "output_type": "execute_result"
    }
   ],
   "source": [
    "np.sum(pop1)"
   ]
  },
  {
   "cell_type": "code",
   "execution_count": null,
   "metadata": {},
   "outputs": [],
   "source": [
    "selection_country = countries == 250 # = Austria\n",
    "selection_country\n",
    "\n",
    "rural = []\n",
    "urban = []\n",
    "total = []\n",
    "Years = []\n",
    "\n",
    "for subdir, dirs, files in os.walk(path):\n",
    "    for file in files:\n",
    "        #print(subdir,file)\n",
    "        if file.endswith(\".tif\"):\n",
    "            name = file.split(\".tif\")[0]\n",
    "            #print(name)\n",
    "            if \"rur\" in file:\n",
    "                nameRural = file.split(\".tif\")[0]\n",
    "                directories_rural=os.path.join(subdir, file)\n",
    "                rural.append(directories_rural)\n",
    "                #print()\n",
    "            if \"urb\" in file:\n",
    "                nameUrban = file.split(\".tif\")[0]\n",
    "                directories_urban=os.path.join(subdir, file)\n",
    "                urban.append(directories_urban)\n",
    "            if \"_\" in file:\n",
    "                nameTotal = file.split(\"_\")[1]\n",
    "                years = nameTotal.split(\".tif\")[0]        \n",
    "                directories_total=os.path.join(subdir, file)\n",
    "                total.append(directories_total)\n",
    "                Years.append(years)\n",
    "                \n",
    "UrbanPop = []\n",
    "TotalPop = []\n",
    "RuralPop = []\n",
    "for u in urban:\n",
    "    tif_u=rasterio.open(u)\n",
    "    pop_u = tif_u.read(1)\n",
    "    pop_u[pop_u < 0] = 0\n",
    "    urban_pop=np.sum(pop_u[selection_country])\n",
    "    UrbanPop.append(urban_pop)\n",
    "    \n",
    "for x in total:\n",
    "    tif_x=rasterio.open(x)\n",
    "    pop_x = tif_x.read(1)\n",
    "    pop_x[pop_x < 0] = 0\n",
    "    total_pop=np.sum(pop_x[selection_country])\n",
    "    TotalPop.append(total_pop)\n",
    "\n",
    "for y in rural:\n",
    "    tif_y=rasterio.open(y)\n",
    "    pop_y = tif_y.read(1)\n",
    "    pop_y[pop_y < 0] = 0\n",
    "    rural_pop=np.sum(pop_y[selection_country])\n",
    "    RuralPop.append(rural_pop)\n",
    "    \n",
    "# Data\n",
    "df=pd.DataFrame({'x': Years, 'y': TotalPop, 'y1': UrbanPop })\n",
    " \n",
    "# multiple line plot\n",
    "plt.plot( 'x', 'y', data=df, marker='', color='blue', linewidth=2, label=\"Total Population\")\n",
    "plt.plot( 'x', 'y1', data=df, marker='', color='skyblue', linewidth=2, label=\"Urban Population\")\n",
    "#plt.plot( 'x', 'y2', data=df, marker='', color='olive', linewidth=2, linestyle='dashed', label=\"Rural Population\" )\n",
    "plt.legend()"
   ]
  },
  {
   "cell_type": "code",
   "execution_count": null,
   "metadata": {},
   "outputs": [],
   "source": [
    "with rasterio.open('popdynamics\\\\SSP4\\\\Total\\\\GeoTIFF\\\\ssp4_2010.tif') as src:\n",
    "    ras_data = src.read()\n",
    "    ras_meta = src.profile\n",
    "with rasterio.open('population_difference1.tif', 'w', **ras_meta) as dst:\n",
    "    dst.write(diff, 1)"
   ]
  },
  {
   "cell_type": "code",
   "execution_count": null,
   "metadata": {},
   "outputs": [],
   "source": [
    "with rasterio.open(\n",
    "    'population_difference0.tif',\n",
    "    'w',\n",
    "    driver='GTiff',\n",
    "    height=diff.shape[0],\n",
    "    width=diff.shape[1],\n",
    "    count=1,\n",
    "    dtype=diff.dtype,\n",
    "    crs='+proj=latlong'\n",
    ") as dst:\n",
    "    dst.write(diff, 1)"
   ]
  }
 ],
 "metadata": {
  "kernelspec": {
   "display_name": "Python 3",
   "language": "python",
   "name": "python3"
  },
  "language_info": {
   "codemirror_mode": {
    "name": "ipython",
    "version": 3
   },
   "file_extension": ".py",
   "mimetype": "text/x-python",
   "name": "python",
   "nbconvert_exporter": "python",
   "pygments_lexer": "ipython3",
   "version": "3.7.6"
  }
 },
 "nbformat": 4,
 "nbformat_minor": 4
}
